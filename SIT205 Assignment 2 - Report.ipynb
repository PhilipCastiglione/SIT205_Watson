{
 "cells": [
  {
   "cell_type": "markdown",
   "metadata": {},
   "source": [
    "# SIT205 Thinking Systems and Cognition Science - Assignment 2\n",
    "\n",
    "## Group: Philip Castiglione (217157862) and Warwick Smith (215239649)\n",
    "\n",
    "## Topic 1: Text Analysis\n",
    "\n",
    "## Report"
   ]
  },
  {
   "cell_type": "markdown",
   "metadata": {},
   "source": [
    "This report satisfies the requirements for SIT205 Assignment 2, using the text analytics topic.\n",
    "\n",
    "The code associated with this report is contained in a Jupyter Notebook named `SIT205 Assignment 2 - Project Code`. This report, the code, and associated data files can be found on GitHub at this link: \n",
    "\n",
    "https://github.com/PhilipCastiglione/SIT205_Watson"
   ]
  },
  {
   "cell_type": "markdown",
   "metadata": {},
   "source": [
    "## Data"
   ]
  },
  {
   "cell_type": "markdown",
   "metadata": {},
   "source": [
    "For this report we chose to analyse the recent events of Australian politics using text produced by members of the general public on Twitter.\n",
    "\n",
    "Using the Twitter API, we collected 6,078 tweets containing the hashtag #libspill, made by 2,534 unique twitter user accounts. These tweets are dated between Saturday, 8th September and Monday, 17th September in 2018.\n",
    "\n",
    "Tweets were cleaned of excess whitespace, tokenized and stripped of urls/links, @ mentions, and hashtags. Tweets were further filtered, excluding empty tweets, retweets and short tweets (less than 41 characters). The reduced set of 941 documents was our final corpus for textual analysis."
   ]
  },
  {
   "cell_type": "markdown",
   "metadata": {},
   "source": [
    "## Analysis"
   ]
  },
  {
   "cell_type": "markdown",
   "metadata": {},
   "source": [
    "We analysed the tweets using the IBM Watson natural language understanding APIs."
   ]
  },
  {
   "cell_type": "code",
   "execution_count": 26,
   "metadata": {},
   "outputs": [],
   "source": [
    "import pickle\n",
    "with open(\"cached_report_analysis_libspill.pkl\", 'rb') as f:\n",
    "    report_analyses = pickle.load(f)"
   ]
  },
  {
   "cell_type": "markdown",
   "metadata": {},
   "source": [
    "#### Sentiment"
   ]
  },
  {
   "cell_type": "markdown",
   "metadata": {},
   "source": [
    "We found the percentage of positive, netural and negative documents in the corpus:"
   ]
  },
  {
   "cell_type": "code",
   "execution_count": 27,
   "metadata": {},
   "outputs": [
    {
     "name": "stdout",
     "output_type": "stream",
     "text": [
      "Positive percentage:\t17.53%\n",
      "Neutral percentage:\t22.95%\n",
      "Negative percentage:\t59.51%\n",
      "Ratio of negative to positive:\t3.39\n"
     ]
    }
   ],
   "source": [
    "print(\"Positive percentage:\\t{:.2f}%\".format(report_analyses['sentiment']['positive_percentage']))\n",
    "print(\"Neutral percentage:\\t{:.2f}%\".format(report_analyses['sentiment']['neutral_percentage']))\n",
    "print(\"Negative percentage:\\t{:.2f}%\".format(report_analyses['sentiment']['negative_percentage']))\n",
    "print(\"Ratio of negative to positive:\\t{:.2f}\".format(\n",
    "    report_analyses['sentiment']['negative_percentage'] / report_analyses['sentiment']['positive_percentage'])\n",
    ")"
   ]
  },
  {
   "cell_type": "markdown",
   "metadata": {},
   "source": [
    "The ratio of negative to positive sentiments of 3.39 in the corpus expresses a generally negative sentiment in tweets with the hashtag #libspill contained in our corpus."
   ]
  },
  {
   "cell_type": "markdown",
   "metadata": {},
   "source": [
    "We found the average and standard deviation of the positive and negative scores in the corpus:"
   ]
  },
  {
   "cell_type": "code",
   "execution_count": 28,
   "metadata": {},
   "outputs": [
    {
     "name": "stdout",
     "output_type": "stream",
     "text": [
      "Positive scores average:\t0.571%\t (Std. Dev. = 0.288)\n",
      "Negative scores average:\t-0.618%\t (Std. Dev. = 0.204)\n"
     ]
    }
   ],
   "source": [
    "print(\"Positive scores average:\\t{:.3f}%\\t (Std. Dev. = {:.3f})\".format(\n",
    "    report_analyses['sentiment']['average_pos_score'], report_analyses['sentiment']['std_dev_pos_score'])\n",
    ")\n",
    "print(\"Negative scores average:\\t{:.3f}%\\t (Std. Dev. = {:.3f})\".format(\n",
    "    report_analyses['sentiment']['average_neg_score'], report_analyses['sentiment']['std_dev_neg_score'])\n",
    ")"
   ]
  },
  {
   "cell_type": "markdown",
   "metadata": {},
   "source": [
    "#### Emotion"
   ]
  },
  {
   "cell_type": "code",
   "execution_count": 29,
   "metadata": {},
   "outputs": [
    {
     "data": {
      "text/plain": [
       "{'sadness': {'average_score': 0.2915363602550483,\n",
       "  'score_std_dev': 0.17761411949011788},\n",
       " 'joy': {'average_score': 0.19376584697130708,\n",
       "  'score_std_dev': 0.20529383029355744},\n",
       " 'fear': {'average_score': 0.13972317428267853,\n",
       "  'score_std_dev': 0.11275930185590587},\n",
       " 'disgust': {'average_score': 0.2401355781083949,\n",
       "  'score_std_dev': 0.1887589515629783},\n",
       " 'anger': {'average_score': 0.22456241976620558,\n",
       "  'score_std_dev': 0.1587676644763662}}"
      ]
     },
     "execution_count": 29,
     "metadata": {},
     "output_type": "execute_result"
    }
   ],
   "source": [
    "# TODO\n",
    "report_analyses['emotion']"
   ]
  },
  {
   "cell_type": "code",
   "execution_count": null,
   "metadata": {},
   "outputs": [],
   "source": []
  },
  {
   "cell_type": "markdown",
   "metadata": {},
   "source": [
    "Notes:\n",
    "not sure we really want the extra flavour around the ratio and stuff, just thought it was interesting. It's clearly outside of the assignment scope though, so possibly should remove it."
   ]
  },
  {
   "cell_type": "code",
   "execution_count": null,
   "metadata": {},
   "outputs": [],
   "source": []
  },
  {
   "cell_type": "code",
   "execution_count": null,
   "metadata": {},
   "outputs": [],
   "source": []
  },
  {
   "cell_type": "code",
   "execution_count": null,
   "metadata": {},
   "outputs": [],
   "source": []
  },
  {
   "cell_type": "code",
   "execution_count": null,
   "metadata": {},
   "outputs": [],
   "source": []
  },
  {
   "cell_type": "code",
   "execution_count": null,
   "metadata": {},
   "outputs": [],
   "source": []
  }
 ],
 "metadata": {
  "kernelspec": {
   "display_name": "Python 3",
   "language": "python",
   "name": "python3"
  },
  "language_info": {
   "codemirror_mode": {
    "name": "ipython",
    "version": 3
   },
   "file_extension": ".py",
   "mimetype": "text/x-python",
   "name": "python",
   "nbconvert_exporter": "python",
   "pygments_lexer": "ipython3",
   "version": "3.7.0"
  }
 },
 "nbformat": 4,
 "nbformat_minor": 2
}
