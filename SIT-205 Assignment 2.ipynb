{
 "cells": [
  {
   "cell_type": "markdown",
   "metadata": {},
   "source": [
    "# SIT205 Thinking Systems and Cognition Science - Assignment 2\n",
    "\n",
    "## Group: Philip Castiglione () and Warwick Smith (215239649)\n",
    "\n",
    "## Topic 1: Text Analysis"
   ]
  },
  {
   "cell_type": "markdown",
   "metadata": {},
   "source": [
    "Introductory comments regarding theme of analysis, data source used (e.g. Twitter), etc."
   ]
  },
  {
   "cell_type": "markdown",
   "metadata": {},
   "source": [
    "### Part 1 - Document Collection"
   ]
  },
  {
   "cell_type": "code",
   "execution_count": 2,
   "metadata": {},
   "outputs": [],
   "source": [
    "# Standard Libaries\n",
    "import os\n",
    "import pickle\n",
    "import json\n",
    "\n",
    "# Additional libraries\n",
    "import twitter                    # python-twitter API\n",
    "from dotenv import load_dotenv    # for management of twitter credentials"
   ]
  },
  {
   "cell_type": "code",
   "execution_count": 3,
   "metadata": {},
   "outputs": [
    {
     "data": {
      "text/plain": [
       "True"
      ]
     },
     "execution_count": 3,
     "metadata": {},
     "output_type": "execute_result"
    }
   ],
   "source": [
    "load_dotenv()"
   ]
  },
  {
   "cell_type": "code",
   "execution_count": 4,
   "metadata": {},
   "outputs": [],
   "source": [
    "#Utilise external environment to source Twitter API authetication credentials\n",
    "CONSUMER_KEY = os.getenv(\"CONSUMER_KEY\")\n",
    "CONSUMER_SECRET = os.getenv(\"CONSUMER_SECRET\")\n",
    "ACCESS_TOKEN_KEY = os.getenv(\"ACCESS_TOKEN_KEY\")\n",
    "ACCESS_TOKEN_SECRET = os.getenv(\"ACCESS_TOKEN_SECRET\")\n",
    "\n",
    "#print(CONSUMER_KEY)\n",
    "#print(CONSUMER_SECRET)\n",
    "#print(ACCESS_TOKEN_KEY)\n",
    "#print(ACCESS_TOKEN_SECRET)\n",
    "\n",
    "# WARNING: do not commit this file to git with these values printed to a cell's output"
   ]
  },
  {
   "cell_type": "code",
   "execution_count": 5,
   "metadata": {},
   "outputs": [],
   "source": [
    "# Create python-twitter API instance\n",
    "api = twitter.Api(consumer_key=CONSUMER_KEY,\n",
    "                  consumer_secret=CONSUMER_SECRET,\n",
    "                  access_token_key=ACCESS_TOKEN_KEY,\n",
    "                  access_token_secret=ACCESS_TOKEN_SECRET)\n",
    "#print(api.VerifyCredentials())"
   ]
  },
  {
   "cell_type": "code",
   "execution_count": 6,
   "metadata": {},
   "outputs": [],
   "source": [
    "# Twitter hashtags for searching \n",
    "hashtags = [\"libspill\", \"auspol\", \"MalcolmTurnbull\"]"
   ]
  },
  {
   "cell_type": "code",
   "execution_count": 94,
   "metadata": {},
   "outputs": [],
   "source": [
    "#function for tweet collection\n",
    "def collect_tweets(api, hashtag, batch_max, total_count):\n",
    "    \"\"\"\n",
    "    Function to collects tweets using the python-twitter GetSearch API\n",
    "    \n",
    "    api:         Twitter API instance\n",
    "    hashtag:     search hashtag\n",
    "    batch_max:   maximum number of tweets to collect per each request\n",
    "    total_count: maximum number of tweets to collect in total\n",
    "    \"\"\"\n",
    "    \n",
    "    # the collection of tweets to be returned\n",
    "    tweets = []\n",
    "    batch_max = str(batch_max)\n",
    "    \n",
    "    #collect the first batch of tweets\n",
    "    #add tweet_mode=extended to the below\n",
    "    results = api.GetSearch(term=hashtag, result_type=\"recent\", lang=\"en\", \n",
    "                            count=batch_max, return_json=True)\n",
    "    \n",
    "    #add results to list\n",
    "    tweets += results['statuses']\n",
    "    \n",
    "    # find the the relevant starting ID for the next search\n",
    "    ids = [tweet['id'] for tweet in tweets]\n",
    "    max_tweet_id = str(min(ids)-1)   #reduced the minimum ID by 1 to remove duplication of tweets at the start/end of batches.\n",
    "\n",
    "    # collect the remaining batches in the total_count\n",
    "    while len(tweets) < total_count:\n",
    "        \n",
    "        print(\"{} tweets collected for hashtag {}. Most recent tweeted at {}\".format(\n",
    "            len(tweets), hashtag, tweets[len(tweets)-1]['created_at']))\n",
    "        \n",
    "        #add tweet_mode=extended to the below\n",
    "        results = api.GetSearch(term=hashtag, result_type=\"recent\", lang=\"en\", \n",
    "                                count=batch_max, return_json=True, max_id=max_tweet_id)\n",
    "        tweets += results['statuses']\n",
    "        ids = [tweet['id'] for tweet in tweets]\n",
    "        max_tweet_id = str(min(ids)-1)   #reduced the minimum ID by 1 to remove duplication of tweets at the start/end of batches.\n",
    "        \n",
    "    print(\"{} tweets collected for hashtag {}. Most recent tweeted at {}\".format(\n",
    "            len(tweets), hashtag, tweets[len(tweets)-1]['created_at']))\n",
    "    return tweets"
   ]
  },
  {
   "cell_type": "code",
   "execution_count": 95,
   "metadata": {},
   "outputs": [
    {
     "name": "stdout",
     "output_type": "stream",
     "text": [
      "100 tweets collected for hashtag libspill. Most recent tweeted at Fri Sep 14 08:02:09 +0000 2018\n",
      "200 tweets collected for hashtag libspill. Most recent tweeted at Fri Sep 14 04:25:17 +0000 2018\n",
      "300 tweets collected for hashtag libspill. Most recent tweeted at Fri Sep 14 02:49:11 +0000 2018\n",
      "400 tweets collected for hashtag libspill. Most recent tweeted at Fri Sep 14 01:13:22 +0000 2018\n",
      "500 tweets collected for hashtag libspill. Most recent tweeted at Thu Sep 13 22:13:56 +0000 2018\n",
      "600 tweets collected for hashtag libspill. Most recent tweeted at Thu Sep 13 20:27:22 +0000 2018\n",
      "100 tweets collected for hashtag auspol. Most recent tweeted at Fri Sep 14 14:11:53 +0000 2018\n",
      "200 tweets collected for hashtag auspol. Most recent tweeted at Fri Sep 14 14:04:05 +0000 2018\n",
      "300 tweets collected for hashtag auspol. Most recent tweeted at Fri Sep 14 13:56:14 +0000 2018\n",
      "400 tweets collected for hashtag auspol. Most recent tweeted at Fri Sep 14 13:49:15 +0000 2018\n",
      "500 tweets collected for hashtag auspol. Most recent tweeted at Fri Sep 14 13:43:35 +0000 2018\n",
      "600 tweets collected for hashtag auspol. Most recent tweeted at Fri Sep 14 13:36:31 +0000 2018\n",
      "100 tweets collected for hashtag MalcolmTurnbull. Most recent tweeted at Thu Sep 13 01:38:27 +0000 2018\n",
      "200 tweets collected for hashtag MalcolmTurnbull. Most recent tweeted at Sun Sep 09 02:23:31 +0000 2018\n",
      "300 tweets collected for hashtag MalcolmTurnbull. Most recent tweeted at Thu Sep 06 07:39:15 +0000 2018\n"
     ]
    }
   ],
   "source": [
    "# Call collect_tweets function for the chosen hashtags\n",
    "hash1_tweets = collect_tweets(api, hashtags[0], 100, 600)\n",
    "hash2_tweets = collect_tweets(api, hashtags[1], 100, 600)\n",
    "hash3_tweets = collect_tweets(api, hashtags[2], 100, 300)\n",
    "tweet_collection = [hash1_tweets, hash2_tweets, hash3_tweets]"
   ]
  },
  {
   "cell_type": "code",
   "execution_count": 96,
   "metadata": {},
   "outputs": [
    {
     "name": "stdout",
     "output_type": "stream",
     "text": [
      "Tweet data type: <class 'dict'>\t\t\n",
      "\n",
      "Tweet keys:\n",
      "\n",
      "dict_keys(['created_at', 'id', 'id_str', 'text', 'truncated', 'entities', 'metadata', 'source', 'in_reply_to_status_id', 'in_reply_to_status_id_str', 'in_reply_to_user_id', 'in_reply_to_user_id_str', 'in_reply_to_screen_name', 'user', 'geo', 'coordinates', 'place', 'contributors', 'retweeted_status', 'is_quote_status', 'retweet_count', 'favorite_count', 'favorited', 'retweeted', 'possibly_sensitive', 'lang'])\n"
     ]
    }
   ],
   "source": [
    "print(\"Tweet data type: {}\\t\\t\".format(type(hash1_tweets[0])))\n",
    "print(\"\\nTweet keys:\\n\")\n",
    "print(hash1_tweets[0].keys())"
   ]
  },
  {
   "cell_type": "code",
   "execution_count": 97,
   "metadata": {},
   "outputs": [],
   "source": [
    "#pickle all tweet sets in the tweet_collection\n",
    "for i in range(len(hashtags)):\n",
    "    name = hashtags[i]\n",
    "    cache_filename = f\"cached_tweets_{name}.pkl\"\n",
    "    with open(cache_filename, 'wb') as f:\n",
    "        pickle.dump(tweet_collection[i], f)"
   ]
  },
  {
   "cell_type": "code",
   "execution_count": 98,
   "metadata": {},
   "outputs": [
    {
     "name": "stdout",
     "output_type": "stream",
     "text": [
      "Number of hashtag collections:\t\t 3\n",
      "Tweet count per hashtag collection:\t 600, 600, 300\n"
     ]
    }
   ],
   "source": [
    "#test load all pickled tweet sets into a new tweet_collection\n",
    "loaded_tweet_collection = []\n",
    "for i in range(len(hashtags)):\n",
    "    name = hashtags[i]\n",
    "    cache_filename = f\"cached_tweets_{name}.pkl\"\n",
    "    with open(cache_filename, 'rb') as f:\n",
    "        loaded_tweet_collection.append(pickle.load(f))\n",
    "\n",
    "print(\"Number of hashtag collections:\\t\\t {}\".format(len(loaded_tweet_collection)))\n",
    "print(\"Tweet count per hashtag collection:\\t {}, {}, {}\".format(len(loaded_tweet_collection[0]),\n",
    "                                                                len(loaded_tweet_collection[1]),\n",
    "                                                                len(loaded_tweet_collection[2])))"
   ]
  },
  {
   "cell_type": "markdown",
   "metadata": {},
   "source": [
    "### Part 2 - Document Cleaning"
   ]
  },
  {
   "cell_type": "code",
   "execution_count": 80,
   "metadata": {},
   "outputs": [],
   "source": [
    "#code here"
   ]
  },
  {
   "cell_type": "markdown",
   "metadata": {},
   "source": [
    "### Part 3 - Watson NLU"
   ]
  },
  {
   "cell_type": "code",
   "execution_count": 81,
   "metadata": {},
   "outputs": [],
   "source": [
    "#code here"
   ]
  },
  {
   "cell_type": "markdown",
   "metadata": {},
   "source": [
    "### Part 4 - Analysis of Watson Output"
   ]
  },
  {
   "cell_type": "code",
   "execution_count": null,
   "metadata": {},
   "outputs": [],
   "source": [
    "#code here"
   ]
  }
 ],
 "metadata": {
  "kernelspec": {
   "display_name": "Python 3",
   "language": "python",
   "name": "python3"
  },
  "language_info": {
   "codemirror_mode": {
    "name": "ipython",
    "version": 3
   },
   "file_extension": ".py",
   "mimetype": "text/x-python",
   "name": "python",
   "nbconvert_exporter": "python",
   "pygments_lexer": "ipython3",
   "version": "3.6.4"
  }
 },
 "nbformat": 4,
 "nbformat_minor": 2
}
