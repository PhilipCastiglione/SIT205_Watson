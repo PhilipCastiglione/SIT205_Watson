{
 "cells": [
  {
   "cell_type": "markdown",
   "metadata": {},
   "source": [
    "## Usage\n",
    "\n",
    "- python 3.7\n",
    "- pipenv\n",
    "- dotenv\n",
    "- twitter API (and client library)"
   ]
  },
  {
   "cell_type": "code",
   "execution_count": 23,
   "metadata": {},
   "outputs": [],
   "source": [
    "# stdlib\n",
    "import os\n",
    "import pickle\n",
    "\n",
    "# libraries\n",
    "import twitter\n",
    "from dotenv import load_dotenv"
   ]
  },
  {
   "cell_type": "code",
   "execution_count": 6,
   "metadata": {},
   "outputs": [],
   "source": [
    "load_dotenv()\n",
    "\n",
    "CONSUMER_KEY = os.getenv(\"CONSUMER_KEY\")\n",
    "CONSUMER_SECRET = os.getenv(\"CONSUMER_SECRET\")\n",
    "ACCESS_TOKEN_KEY = os.getenv(\"ACCESS_TOKEN_KEY\")\n",
    "ACCESS_TOKEN_SECRET = os.getenv(\"ACCESS_TOKEN_SECRET\")\n",
    "\n",
    "# WARNING: do not commit this file to git with these values printed to a cell's output"
   ]
  },
  {
   "cell_type": "code",
   "execution_count": null,
   "metadata": {},
   "outputs": [],
   "source": [
    "api = twitter.Api(consumer_key=CONSUMER_KEY,\n",
    "                  consumer_secret=CONSUMER_SECRET,\n",
    "                  access_token_key=ACCESS_TOKEN_KEY,\n",
    "                  access_token_secret=ACCESS_TOKEN_SECRET)\n",
    "print(api.VerifyCredentials())"
   ]
  },
  {
   "cell_type": "code",
   "execution_count": 12,
   "metadata": {},
   "outputs": [],
   "source": [
    "term = \"libspill\"\n",
    "per_page = 100 # max for this endpoint"
   ]
  },
  {
   "cell_type": "code",
   "execution_count": null,
   "metadata": {},
   "outputs": [],
   "source": [
    "#raw_query = f\"q={term}%20&result_type=recent&since=2014-07-19&count={per_page}\"\n",
    "raw_query = f\"q={term}%20&result_type=recent&count={per_page}\"\n",
    "#results = api.GetSearch(raw_query=raw_query)"
   ]
  },
  {
   "cell_type": "code",
   "execution_count": 17,
   "metadata": {},
   "outputs": [
    {
     "data": {
      "text/plain": [
       "twitter.models.Status"
      ]
     },
     "execution_count": 17,
     "metadata": {},
     "output_type": "execute_result"
    }
   ],
   "source": [
    "len(results)\n",
    "# => 100, even though i initially ran it with `per_page = 500`\n",
    "\n",
    "type(results)\n",
    "# => list\n",
    "\n",
    "type(results[0])\n",
    "# => twitter.models.Status"
   ]
  },
  {
   "cell_type": "code",
   "execution_count": 21,
   "metadata": {},
   "outputs": [
    {
     "data": {
      "text/plain": [
       "Status(ID=1039485380934815746, ScreenName=DoNutCentre, Created=Tue Sep 11 12:06:42 +0000 2018, Text='RT @MeckeringBoy: “Explains” is inaccurate. Verbal  diarrhoea would be more accurate. “Wall of sound Morrison” is not explaining. 💩💩💩#libsp…')"
      ]
     },
     "execution_count": 21,
     "metadata": {},
     "output_type": "execute_result"
    }
   ],
   "source": [
    "results[0]"
   ]
  },
  {
   "cell_type": "markdown",
   "metadata": {},
   "source": [
    "## Data Plans\n",
    "\n",
    "- if there are no cached tweets (or if some flag is passed)\n",
    "- search for tweets with a given hashtag using 30 day api in batches of 100 tweets\n",
    "- receive 100 tweets, filter them by some characteristics and stream the filtered tweets into a collection\n",
    "- page forward and repeat\n",
    "- when the collection contains N tweets (or if we reach the end of the 30 day feed?) then cease fetching\n",
    "- cache the results so we can access them from a file and not run out of monthly requests..."
   ]
  },
  {
   "cell_type": "code",
   "execution_count": 26,
   "metadata": {},
   "outputs": [],
   "source": [
    "cache_filename = f\"cached_tweets_{term}.pkl\"\n",
    "with open(cache_filename, 'wb') as f:\n",
    "    pickle.dump(results, f)"
   ]
  },
  {
   "cell_type": "code",
   "execution_count": 31,
   "metadata": {},
   "outputs": [],
   "source": [
    "test_load_results = None\n",
    "with open(cache_filename, 'rb') as f:\n",
    "    test_load_results = pickle.load(f)"
   ]
  },
  {
   "cell_type": "code",
   "execution_count": 34,
   "metadata": {},
   "outputs": [
    {
     "data": {
      "text/plain": [
       "twitter.models.Status"
      ]
     },
     "execution_count": 34,
     "metadata": {},
     "output_type": "execute_result"
    }
   ],
   "source": [
    "type(test_load_results[0])"
   ]
  },
  {
   "cell_type": "markdown",
   "metadata": {},
   "source": [
    "## Ideas\n",
    "\n",
    "- some potential hashtags include #libspill and #auspol\n",
    "- filter tweets: too short, replace/ignore hyperlinks, strip formatting ('\\n') etc..."
   ]
  },
  {
   "cell_type": "markdown",
   "metadata": {},
   "source": [
    "## Notes\n",
    "\n",
    "- will need to handle API rate limiting (15 calls in 15 mins)\n",
    "    - one option is to use the client libraries sleep function: `sleep_on_rate_limit=True`\n",
    "    - alternatively, we could catch an error or attempt to use our own loops"
   ]
  },
  {
   "cell_type": "code",
   "execution_count": null,
   "metadata": {},
   "outputs": [],
   "source": []
  }
 ],
 "metadata": {
  "kernelspec": {
   "display_name": "Python 3",
   "language": "python",
   "name": "python3"
  },
  "language_info": {
   "codemirror_mode": {
    "name": "ipython",
    "version": 3
   },
   "file_extension": ".py",
   "mimetype": "text/x-python",
   "name": "python",
   "nbconvert_exporter": "python",
   "pygments_lexer": "ipython3",
   "version": "3.7.0"
  }
 },
 "nbformat": 4,
 "nbformat_minor": 2
}
