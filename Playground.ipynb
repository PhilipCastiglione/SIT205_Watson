{
 "cells": [
  {
   "cell_type": "markdown",
   "metadata": {},
   "source": [
    "## Usage\n",
    "\n",
    "- python 3.7\n",
    "- pipenv\n",
    "- dotenv\n",
    "- twitter API (and client library)"
   ]
  },
  {
   "cell_type": "code",
   "execution_count": 1,
   "metadata": {},
   "outputs": [],
   "source": [
    "# stdlib\n",
    "import os\n",
    "import pickle\n",
    "\n",
    "# libraries\n",
    "import twitter\n",
    "from dotenv import load_dotenv"
   ]
  },
  {
   "cell_type": "code",
   "execution_count": 2,
   "metadata": {},
   "outputs": [],
   "source": [
    "load_dotenv()\n",
    "\n",
    "CONSUMER_KEY = os.getenv(\"CONSUMER_KEY\")\n",
    "CONSUMER_SECRET = os.getenv(\"CONSUMER_SECRET\")\n",
    "ACCESS_TOKEN_KEY = os.getenv(\"ACCESS_TOKEN_KEY\")\n",
    "ACCESS_TOKEN_SECRET = os.getenv(\"ACCESS_TOKEN_SECRET\")\n",
    "\n",
    "# WARNING: do not commit this file to git with these values printed to a cell's output"
   ]
  },
  {
   "cell_type": "code",
   "execution_count": 3,
   "metadata": {},
   "outputs": [
    {
     "name": "stdout",
     "output_type": "stream",
     "text": [
      "{\"created_at\": \"Tue Oct 24 06:56:07 +0000 2017\", \"default_profile\": true, \"description\": \"Software developer, AI enthusiast\", \"favourites_count\": 4, \"followers_count\": 3, \"friends_count\": 69, \"id\": 922718326249287681, \"id_str\": \"922718326249287681\", \"lang\": \"en\", \"location\": \"Melbourne, Victoria\", \"name\": \"Philip Castiglione\", \"profile_background_color\": \"F5F8FA\", \"profile_image_url\": \"http://pbs.twimg.com/profile_images/922742937741438976/WR7tRb1R_normal.jpg\", \"profile_image_url_https\": \"https://pbs.twimg.com/profile_images/922742937741438976/WR7tRb1R_normal.jpg\", \"profile_link_color\": \"1DA1F2\", \"profile_sidebar_border_color\": \"C0DEED\", \"profile_sidebar_fill_color\": \"DDEEF6\", \"profile_text_color\": \"333333\", \"profile_use_background_image\": true, \"screen_name\": \"PhilCastiglione\", \"url\": \"https://t.co/dZeZogyr0o\"}\n"
     ]
    }
   ],
   "source": [
    "api = twitter.Api(consumer_key=CONSUMER_KEY,\n",
    "                  consumer_secret=CONSUMER_SECRET,\n",
    "                  access_token_key=ACCESS_TOKEN_KEY,\n",
    "                  access_token_secret=ACCESS_TOKEN_SECRET)\n",
    "print(api.VerifyCredentials())"
   ]
  },
  {
   "cell_type": "code",
   "execution_count": 4,
   "metadata": {},
   "outputs": [],
   "source": [
    "term = \"libspill\"\n",
    "per_page = 100 # max for this endpoint"
   ]
  },
  {
   "cell_type": "code",
   "execution_count": 14,
   "metadata": {},
   "outputs": [],
   "source": [
    "#raw_query = f\"q={term}%20&result_type=recent&since=2014-07-19&count={per_page}\"\n",
    "raw_query = f\"q={term}%20&result_type=recent&count={per_page}&tweet_mode=extended\"\n",
    "results = api.GetSearch(raw_query=raw_query)"
   ]
  },
  {
   "cell_type": "code",
   "execution_count": 15,
   "metadata": {},
   "outputs": [
    {
     "data": {
      "text/plain": [
       "twitter.models.Status"
      ]
     },
     "execution_count": 15,
     "metadata": {},
     "output_type": "execute_result"
    }
   ],
   "source": [
    "len(results)\n",
    "# => 100, even though i initially ran it with `per_page = 500`\n",
    "\n",
    "type(results)\n",
    "# => list\n",
    "\n",
    "type(results[0])\n",
    "# => twitter.models.Status"
   ]
  },
  {
   "cell_type": "code",
   "execution_count": 19,
   "metadata": {},
   "outputs": [
    {
     "data": {
      "text/plain": [
       "\"@PatsKarvelas I'm not seeing the problem here.\\n#AusPol  #LibSpill\\n\\n(Also, is Old MacDonald saying that he thinks Dutton would be found ineligible by the High Court over this issue?)\""
      ]
     },
     "execution_count": 19,
     "metadata": {},
     "output_type": "execute_result"
    }
   ],
   "source": [
    "results[9].full_text"
   ]
  },
  {
   "cell_type": "code",
   "execution_count": 22,
   "metadata": {},
   "outputs": [
    {
     "data": {
      "text/plain": [
       "Status(ID=1040501684416344064, ScreenName=JulieLyford, Created=Fri Sep 14 07:25:07 +0000 2018, Text=\"RT @PeterWMurphy1: Watching @ScottMorrisonMP's original tweet, it seems the PM and his Govt are boasting about how much money they have. So…\")"
      ]
     },
     "execution_count": 22,
     "metadata": {},
     "output_type": "execute_result"
    }
   ],
   "source": [
    "results[-1]"
   ]
  },
  {
   "cell_type": "markdown",
   "metadata": {},
   "source": [
    "## Data Plans\n",
    "\n",
    "- if there are no cached tweets (or if some flag is passed)\n",
    "- search for tweets with a given hashtag using 30 day api in batches of 100 tweets\n",
    "- receive 100 tweets, filter them by some characteristics and stream the filtered tweets into a collection\n",
    "- page forward and repeat\n",
    "- when the collection contains N tweets (or if we reach the end of the 30 day feed?) then cease fetching\n",
    "- cache the results so we can access them from a file and not run out of monthly requests..."
   ]
  },
  {
   "cell_type": "code",
   "execution_count": 26,
   "metadata": {},
   "outputs": [],
   "source": [
    "cache_filename = f\"cached_tweets_{term}.pkl\"\n",
    "with open(cache_filename, 'wb') as f:\n",
    "    pickle.dump(results, f)"
   ]
  },
  {
   "cell_type": "code",
   "execution_count": 31,
   "metadata": {},
   "outputs": [],
   "source": [
    "test_load_results = None\n",
    "with open(cache_filename, 'rb') as f:\n",
    "    test_load_results = pickle.load(f)"
   ]
  },
  {
   "cell_type": "code",
   "execution_count": 34,
   "metadata": {},
   "outputs": [
    {
     "data": {
      "text/plain": [
       "twitter.models.Status"
      ]
     },
     "execution_count": 34,
     "metadata": {},
     "output_type": "execute_result"
    }
   ],
   "source": [
    "type(test_load_results[0])"
   ]
  },
  {
   "cell_type": "markdown",
   "metadata": {},
   "source": [
    "## Ideas\n",
    "\n",
    "- some potential hashtags include #libspill and #auspol\n",
    "- filter tweets: too short, replace/ignore hyperlinks, strip formatting ('\\n') etc..."
   ]
  },
  {
   "cell_type": "markdown",
   "metadata": {},
   "source": [
    "## Notes\n",
    "\n",
    "- will need to handle API rate limiting (15 calls in 15 mins)\n",
    "    - one option is to use the client libraries sleep function: `sleep_on_rate_limit=True`\n",
    "    - alternatively, we could catch an error or attempt to use our own loops"
   ]
  },
  {
   "cell_type": "code",
   "execution_count": null,
   "metadata": {},
   "outputs": [],
   "source": []
  }
 ],
 "metadata": {
  "kernelspec": {
   "display_name": "Python 3",
   "language": "python",
   "name": "python3"
  },
  "language_info": {
   "codemirror_mode": {
    "name": "ipython",
    "version": 3
   },
   "file_extension": ".py",
   "mimetype": "text/x-python",
   "name": "python",
   "nbconvert_exporter": "python",
   "pygments_lexer": "ipython3",
   "version": "3.7.0"
  }
 },
 "nbformat": 4,
 "nbformat_minor": 2
}
