{
 "cells": [
  {
   "cell_type": "code",
   "execution_count": 4,
   "metadata": {},
   "outputs": [],
   "source": [
    "import pickle\n",
    "\n",
    "term = \"libspill\"\n",
    "analysis_filename = f\"cached_analysis_{term}.pkl\"\n",
    "\n",
    "test_load_results = None\n",
    "with open(analysis_filename, 'rb') as f:\n",
    "    test_load_results = pickle.load(f)"
   ]
  },
  {
   "cell_type": "code",
   "execution_count": 6,
   "metadata": {},
   "outputs": [
    {
     "name": "stdout",
     "output_type": "stream",
     "text": [
      "{\n",
      "    \"result\": {\n",
      "        \"usage\": {\n",
      "            \"text_units\": 1,\n",
      "            \"text_characters\": 113,\n",
      "            \"features\": 5\n",
      "        },\n",
      "        \"sentiment\": {\n",
      "            \"document\": {\n",
      "                \"score\": -0.967917,\n",
      "                \"label\": \"negative\"\n",
      "            }\n",
      "        },\n",
      "        \"language\": \"en\",\n",
      "        \"keywords\": [\n",
      "            {\n",
      "                \"text\": \"mouthing empty platitudes\",\n",
      "                \"sentiment\": {\n",
      "                    \"score\": -0.836754,\n",
      "                    \"label\": \"negative\"\n",
      "                },\n",
      "                \"relevance\": 0.977707,\n",
      "                \"emotion\": {\n",
      "                    \"sadness\": 0.543186,\n",
      "                    \"joy\": 0.008959,\n",
      "                    \"fear\": 0.032767,\n",
      "                    \"disgust\": 0.574578,\n",
      "                    \"anger\": 0.109087\n",
      "                }\n",
      "            },\n",
      "            {\n",
      "                \"text\": \"Poor\",\n",
      "                \"sentiment\": {\n",
      "                    \"score\": -0.793897,\n",
      "                    \"label\": \"negative\"\n",
      "                },\n",
      "                \"relevance\": 0.618737,\n",
      "                \"emotion\": {\n",
      "                    \"sadness\": 0.676446,\n",
      "                    \"joy\": 0.00324,\n",
      "                    \"fear\": 0.346513,\n",
      "                    \"disgust\": 0.186231,\n",
      "                    \"anger\": 0.104778\n",
      "                }\n",
      "            },\n",
      "            {\n",
      "                \"text\": \"Sales\",\n",
      "                \"sentiment\": {\n",
      "                    \"score\": -0.86595,\n",
      "                    \"label\": \"negative\"\n",
      "                },\n",
      "                \"relevance\": 0.446704\n",
      "            },\n",
      "            {\n",
      "                \"text\": \"questions\",\n",
      "                \"sentiment\": {\n",
      "                    \"score\": -0.86595,\n",
      "                    \"label\": \"negative\"\n",
      "                },\n",
      "                \"relevance\": 0.444786,\n",
      "                \"emotion\": {\n",
      "                    \"sadness\": 0.641397,\n",
      "                    \"joy\": 0.012536,\n",
      "                    \"fear\": 0.098504,\n",
      "                    \"disgust\": 0.050516,\n",
      "                    \"anger\": 0.407883\n",
      "                }\n",
      "            }\n",
      "        ],\n",
      "        \"entities\": [],\n",
      "        \"emotion\": {\n",
      "            \"document\": {\n",
      "                \"emotion\": {\n",
      "                    \"sadness\": 0.731913,\n",
      "                    \"joy\": 0.001729,\n",
      "                    \"fear\": 0.108184,\n",
      "                    \"disgust\": 0.197406,\n",
      "                    \"anger\": 0.276529\n",
      "                }\n",
      "            }\n",
      "        },\n",
      "        \"categories\": [\n",
      "            {\n",
      "                \"score\": 0.231326,\n",
      "                \"label\": \"/business and industrial\"\n",
      "            },\n",
      "            {\n",
      "                \"score\": 0.211134,\n",
      "                \"label\": \"/pets/dogs\"\n",
      "            },\n",
      "            {\n",
      "                \"score\": 0.167049,\n",
      "                \"label\": \"/law, govt and politics/government\"\n",
      "            }\n",
      "        ]\n",
      "    },\n",
      "    \"headers\": {\n",
      "        \"_store\": {\n",
      "            \"date\": [\n",
      "                \"Date\",\n",
      "                \"Fri, 14 Sep 2018 11:20:58 GMT\"\n",
      "            ],\n",
      "            \"content-type\": [\n",
      "                \"Content-Type\",\n",
      "                \"application/json; charset=utf-8\"\n",
      "            ],\n",
      "            \"content-length\": [\n",
      "                \"Content-Length\",\n",
      "                \"1816\"\n",
      "            ],\n",
      "            \"connection\": [\n",
      "                \"Connection\",\n",
      "                \"keep-alive\"\n",
      "            ],\n",
      "            \"cache-control\": [\n",
      "                \"cache-control\",\n",
      "                \"no-cache, no-store\"\n",
      "            ],\n",
      "            \"x-dp-watson-tran-id\": [\n",
      "                \"x-dp-watson-tran-id\",\n",
      "                \"8fdfcc4eb954f5f895594cc2164645d1\"\n",
      "            ],\n",
      "            \"content-security-policy\": [\n",
      "                \"content-security-policy\",\n",
      "                \"default-src 'none'\"\n",
      "            ],\n",
      "            \"pragma\": [\n",
      "                \"pragma\",\n",
      "                \"no-cache\"\n",
      "            ],\n",
      "            \"x-content-type-options\": [\n",
      "                \"x-content-type-options\",\n",
      "                \"nosniff\"\n",
      "            ],\n",
      "            \"x-frame-options\": [\n",
      "                \"x-frame-options\",\n",
      "                \"DENY\"\n",
      "            ],\n",
      "            \"x-xss-protection\": [\n",
      "                \"x-xss-protection\",\n",
      "                \"1; mode=block\"\n",
      "            ],\n",
      "            \"x-global-transaction-id\": [\n",
      "                \"x-global-transaction-id\",\n",
      "                \"8fdfcc4eb954f5f895594cc2164645d1\"\n",
      "            ]\n",
      "        }\n",
      "    },\n",
      "    \"status_code\": 200\n",
      "}\n"
     ]
    }
   ],
   "source": [
    "print(test_load_results[0])"
   ]
  },
  {
   "cell_type": "code",
   "execution_count": 9,
   "metadata": {
    "scrolled": true
   },
   "outputs": [
    {
     "data": {
      "text/plain": [
       "{'usage': {'text_units': 1, 'text_characters': 113, 'features': 5},\n",
       " 'sentiment': {'document': {'score': -0.967917, 'label': 'negative'}},\n",
       " 'language': 'en',\n",
       " 'keywords': [{'text': 'mouthing empty platitudes',\n",
       "   'sentiment': {'score': -0.836754, 'label': 'negative'},\n",
       "   'relevance': 0.977707,\n",
       "   'emotion': {'sadness': 0.543186,\n",
       "    'joy': 0.008959,\n",
       "    'fear': 0.032767,\n",
       "    'disgust': 0.574578,\n",
       "    'anger': 0.109087}},\n",
       "  {'text': 'Poor',\n",
       "   'sentiment': {'score': -0.793897, 'label': 'negative'},\n",
       "   'relevance': 0.618737,\n",
       "   'emotion': {'sadness': 0.676446,\n",
       "    'joy': 0.00324,\n",
       "    'fear': 0.346513,\n",
       "    'disgust': 0.186231,\n",
       "    'anger': 0.104778}},\n",
       "  {'text': 'Sales',\n",
       "   'sentiment': {'score': -0.86595, 'label': 'negative'},\n",
       "   'relevance': 0.446704},\n",
       "  {'text': 'questions',\n",
       "   'sentiment': {'score': -0.86595, 'label': 'negative'},\n",
       "   'relevance': 0.444786,\n",
       "   'emotion': {'sadness': 0.641397,\n",
       "    'joy': 0.012536,\n",
       "    'fear': 0.098504,\n",
       "    'disgust': 0.050516,\n",
       "    'anger': 0.407883}}],\n",
       " 'entities': [],\n",
       " 'emotion': {'document': {'emotion': {'sadness': 0.731913,\n",
       "    'joy': 0.001729,\n",
       "    'fear': 0.108184,\n",
       "    'disgust': 0.197406,\n",
       "    'anger': 0.276529}}},\n",
       " 'categories': [{'score': 0.231326, 'label': '/business and industrial'},\n",
       "  {'score': 0.211134, 'label': '/pets/dogs'},\n",
       "  {'score': 0.167049, 'label': '/law, govt and politics/government'}]}"
      ]
     },
     "execution_count": 9,
     "metadata": {},
     "output_type": "execute_result"
    }
   ],
   "source": [
    "q = test_load_results[0]\n",
    "q.result"
   ]
  },
  {
   "cell_type": "code",
   "execution_count": 25,
   "metadata": {},
   "outputs": [
    {
     "data": {
      "text/plain": [
       "['negative',\n",
       " 'positive',\n",
       " 'positive',\n",
       " 'negative',\n",
       " 'positive',\n",
       " 'negative',\n",
       " 'negative',\n",
       " 'negative',\n",
       " 'negative']"
      ]
     },
     "execution_count": 25,
     "metadata": {},
     "output_type": "execute_result"
    }
   ],
   "source": [
    "sentiment_labels = [q.result['sentiment']['document']['label'] for q in test_load_results]\n",
    "\n",
    "# just inflate for the next bit\n",
    "sentiment_labels = ['negative', 'positive', 'positive', 'negative', 'positive', 'negative', 'negative', 'negative', 'negative']\n",
    "\n",
    "sentiment_labels"
   ]
  },
  {
   "cell_type": "code",
   "execution_count": 26,
   "metadata": {},
   "outputs": [
    {
     "data": {
      "text/plain": [
       "collections.Counter"
      ]
     },
     "execution_count": 26,
     "metadata": {},
     "output_type": "execute_result"
    }
   ],
   "source": [
    "from collections import Counter\n",
    "Counter"
   ]
  },
  {
   "cell_type": "code",
   "execution_count": 27,
   "metadata": {},
   "outputs": [
    {
     "data": {
      "text/plain": [
       "Counter({'negative': 6, 'positive': 3})"
      ]
     },
     "execution_count": 27,
     "metadata": {},
     "output_type": "execute_result"
    }
   ],
   "source": [
    "c = Counter(sentiment_labels)\n",
    "c"
   ]
  },
  {
   "cell_type": "code",
   "execution_count": 30,
   "metadata": {},
   "outputs": [],
   "source": [
    "negative_percentage = 100 * c['positive'] / (c['negative'] + c['positive'])\n",
    "positive_percentage = 100 * c['negative'] / (c['negative'] + c['positive'])"
   ]
  },
  {
   "cell_type": "code",
   "execution_count": 41,
   "metadata": {},
   "outputs": [],
   "source": [
    "sentiment_scores = [q.result['sentiment']['document']['score'] for q in test_load_results]\n",
    "\n",
    "# again just some dummy numbers for the analysis\n",
    "import random\n",
    "sentiment_scores = [random.random() for s in sentiment_labels]\n",
    "\n",
    "average_score = sum(sentiment_scores) / len(sentiment_scores)\n",
    "\n",
    "from statistics import stdev\n",
    "\n",
    "score_std_dev = stdev(sentiment_scores)"
   ]
  },
  {
   "cell_type": "code",
   "execution_count": 42,
   "metadata": {},
   "outputs": [
    {
     "name": "stdout",
     "output_type": "stream",
     "text": [
      "Sentiment\n",
      "percentage of positive sentiment documents: 66.7%\n",
      "percentage of negative sentiment documents: 33.3%\n",
      "average sentiment score: 0.5371\n",
      "sentiment score standard deviation: 0.3831\n"
     ]
    }
   ],
   "source": [
    "print(\"Sentiment\")\n",
    "print(\"percentage of positive sentiment documents: {:.1f}%\".format(positive_percentage))\n",
    "print(\"percentage of negative sentiment documents: {:.1f}%\".format(negative_percentage))\n",
    "print(\"average sentiment score: {:.4f}\".format(average_score))\n",
    "print(\"sentiment score standard deviation: {:.4f}\".format(score_std_dev))\n"
   ]
  },
  {
   "cell_type": "code",
   "execution_count": 46,
   "metadata": {},
   "outputs": [
    {
     "name": "stdout",
     "output_type": "stream",
     "text": [
      "Emotion\n",
      "average emotion score - sadness: 0.5612\n",
      "emotion score standard deviation - sadness: 0.1615\n",
      "average emotion score - joy: 0.5571\n",
      "emotion score standard deviation - joy: 0.3247\n",
      "average emotion score - fear: 0.6632\n",
      "emotion score standard deviation - fear: 0.2533\n",
      "average emotion score - disgust: 0.4728\n",
      "emotion score standard deviation - disgust: 0.3559\n",
      "average emotion score - anger: 0.5786\n",
      "emotion score standard deviation - anger: 0.2657\n"
     ]
    }
   ],
   "source": [
    "print(\"Emotion\")\n",
    "# document level emotion scores\n",
    "for emotion in ['sadness', 'joy', 'fear', 'disgust', 'anger']:\n",
    "    emotion_scores = [q.result['emotion']['document']['emotion'][emotion] for q in test_load_results]\n",
    "    \n",
    "    # again just some dummy numbers for the analysis\n",
    "    emotion_scores = [random.random() for s in sentiment_labels]\n",
    "\n",
    "    average_emotion_score = sum(emotion_scores) / len(emotion_scores)\n",
    "    emotion_score_std_dev = stdev(emotion_scores)\n",
    "    print(\"average emotion score - {}: {:.4f}\".format(emotion, average_emotion_score))\n",
    "    print(\"emotion score standard deviation - {}: {:.4f}\".format(emotion, emotion_score_std_dev))"
   ]
  },
  {
   "cell_type": "code",
   "execution_count": 62,
   "metadata": {},
   "outputs": [
    {
     "name": "stdout",
     "output_type": "stream",
     "text": [
      "Categories\n",
      "there are 3 categories in the corpus\n",
      "frequencies:\n",
      "    - /business and industrial: 2\n",
      "    - /pets/dogs: 2\n",
      "    - /law, govt and politics/government: 2\n"
     ]
    }
   ],
   "source": [
    "print(\"Categories\")\n",
    "test_load_resultsx = [test_load_results[0],test_load_results[0]]\n",
    "category_labels = [categories['label'] for categories in q.result['categories'] for q in test_load_resultsx]\n",
    "category_labels\n",
    "cc = Counter(category_labels)\n",
    "print(\"there are {} categories in the corpus\".format(len(cc)))\n",
    "print(\"frequencies:\")\n",
    "for k, v in cc.items():\n",
    "    print(\"    - {}: {}\".format(k, v))"
   ]
  },
  {
   "cell_type": "code",
   "execution_count": 63,
   "metadata": {},
   "outputs": [],
   "source": [
    "# TODO: entities - there were none for this one text string analysed...?"
   ]
  },
  {
   "cell_type": "code",
   "execution_count": 64,
   "metadata": {},
   "outputs": [],
   "source": [
    "# TODO: Keywords"
   ]
  },
  {
   "cell_type": "code",
   "execution_count": 65,
   "metadata": {},
   "outputs": [],
   "source": [
    "# TODO: report - we might be able to just make that a pdf export of a nicely presented notebook"
   ]
  },
  {
   "cell_type": "code",
   "execution_count": null,
   "metadata": {},
   "outputs": [],
   "source": []
  }
 ],
 "metadata": {
  "kernelspec": {
   "display_name": "Python 3",
   "language": "python",
   "name": "python3"
  },
  "language_info": {
   "codemirror_mode": {
    "name": "ipython",
    "version": 3
   },
   "file_extension": ".py",
   "mimetype": "text/x-python",
   "name": "python",
   "nbconvert_exporter": "python",
   "pygments_lexer": "ipython3",
   "version": "3.7.0"
  }
 },
 "nbformat": 4,
 "nbformat_minor": 2
}
